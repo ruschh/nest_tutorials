{
 "cells": [
  {
   "cell_type": "code",
   "execution_count": 1,
   "id": "139828fb-5374-45a2-ba25-c316016bab99",
   "metadata": {},
   "outputs": [
    {
     "name": "stdout",
     "output_type": "stream",
     "text": [
      "\n",
      "              -- N E S T --\n",
      "  Copyright (C) 2004 The NEST Initiative\n",
      "\n",
      " Version: 3.6.0\n",
      " Built: Oct 15 2023 15:12:16\n",
      "\n",
      " This program is provided AS IS and comes with\n",
      " NO WARRANTY. See the file LICENSE for details.\n",
      "\n",
      " Problems or suggestions?\n",
      "   Visit https://www.nest-simulator.org\n",
      "\n",
      " Type 'nest.help()' to find out more about NEST.\n",
      "\n"
     ]
    }
   ],
   "source": [
    "import nest\n",
    "import numpy as np\n",
    "import time\n",
    "%matplotlib inline\n",
    "import matplotlib.pyplot as plt\n",
    "        \n",
    "nest.ResetKernel()\n",
    "nest.set_verbosity(\"M_WARNING\")"
   ]
  },
  {
   "cell_type": "markdown",
   "id": "193e8ca9-d50a-4eec-8f41-0ba8bf6c12bc",
   "metadata": {},
   "source": [
    "Network Architecture"
   ]
  },
  {
   "cell_type": "code",
   "execution_count": 15,
   "id": "efe8770a-7f7b-4504-a8c3-bb4a93706d29",
   "metadata": {},
   "outputs": [
    {
     "name": "stdout",
     "output_type": "stream",
     "text": [
      "Building Cortical Thalamic Network\n",
      "Implement the STDP\n"
     ]
    },
    {
     "name": "stderr",
     "output_type": "stream",
     "text": [
      "No artists with labels found to put in legend.  Note that artists whose label start with an underscore are ignored when legend() is called with no argument.\n"
     ]
    },
    {
     "data": {
      "text/plain": [
       "Text(0, 0.5, 'V_Cr_Ex (mV)')"
      ]
     },
     "execution_count": 15,
     "metadata": {},
     "output_type": "execute_result"
    },
    {
     "data": {
      "image/png": "[encoded data removed]",
      "text/plain": [
       "<Figure size 640x480 with 1 Axes>"
      ]
     },
     "metadata": {},
     "output_type": "display_data"
    }
   ],
   "source": [
    "def CorticalThalamicNetwork():\n",
    "    nest.ResetKernel()\n",
    "    #nest.resolution = dt\n",
    "    startbuild = time.time()\n",
    "#\n",
    "#   Parameter assumed by the network\n",
    "    dt = 0.1\n",
    "    simtime = 10.0\n",
    "    p_rate = 0.5\n",
    "#   \n",
    "#   Number of neuron populations\n",
    "    ExciCrNeuron = 180 \n",
    "    InhiCrNeuron = 200\n",
    "    ExciThlNeuron = 324\n",
    "    InhiThlNeuron = 200\n",
    "    numberNeurons = ExciCrNeuron + InhiCrNeuron + ExciThlNeuron + InhiThlNeuron\n",
    "#\n",
    "#   Neuron parameters -- first run\n",
    "    vPeak = -40.4\n",
    "    neuronParams = {\"V_peak\": vPeak}\n",
    "#\n",
    "#   Number of synapses -- Ce -> Excitatory, CI -> Inhibitory\n",
    "    CE = int(ExciCrNeuron + ExciThlNeuron)\n",
    "    CI = int(InhiCrNeuron + InhiThlNeuron)\n",
    "    CTot = int(CE + CI)\n",
    "#   \n",
    "    print(\"Building Cortical Thalamic Network\")\n",
    "#\n",
    "#   Set defaults - AdEx com neuroParams and Poissonian spike generator with rate p_rate\n",
    "    nest.SetDefaults(\"aeif_cond_alpha\", neuronParams)\n",
    "    nest.SetDefaults(\"poisson_generator\", {\"rate\": p_rate})                 \n",
    "#\n",
    "#   Creating populations\n",
    "    NeuronsCxEx = nest.Create(\"aeif_cond_alpha\", ExciCrNeuron)\n",
    "    NeuronsCxIn = nest.Create(\"aeif_cond_alpha\", InhiCrNeuron)\n",
    "    NeuronsThEx = nest.Create(\"aeif_cond_alpha\", ExciThlNeuron)\n",
    "    NeuronsThIn = nest.Create(\"aeif_cond_alpha\", InhiThlNeuron)\n",
    "    NeuronsAll = NeuronsCxEx + NeuronsCxIn + NeuronsThEx + NeuronsThIn\n",
    "#    \n",
    "    noise = nest.Create(\"poisson_generator\")\n",
    "#\n",
    "#   Creating voltmeters and recorders\n",
    "    VmCxEx = nest.Create(\"voltmeter\")\n",
    "    VmCxIn = nest.Create(\"voltmeter\")\n",
    "    VmThEx = nest.Create(\"voltmeter\")\n",
    "    VmThIn = nest.Create(\"voltmeter\")\n",
    "    \n",
    "    CrExspike = nest.Create(\"spike_recorder\")\n",
    "    CrInspike = nest.Create(\"spike_recorder\")\n",
    "    ThExspike = nest.Create(\"spike_recorder\")\n",
    "    ThInspike = nest.Create(\"spike_recorder\")\n",
    "    AllSpike = nest.Create(\"spike_recorder\")\n",
    "#\n",
    "#   Configuration of the spike_recorders\n",
    "    nest.Connect(VmCxEx, NeuronsCxEx)\n",
    "    nest.Connect(VmCxIn, NeuronsCxIn)\n",
    "    nest.Connect(VmThEx, NeuronsThEx)\n",
    "    nest.Connect(VmThIn, NeuronsThIn)\n",
    "    \n",
    "    nest.Connect(NeuronsCxEx, CrExspike)\n",
    "    nest.Connect(NeuronsCxIn, CrInspike)\n",
    "    nest.Connect(NeuronsThEx, ThExspike)\n",
    "    nest.Connect(NeuronsThIn, ThInspike)    \n",
    "#\n",
    "    print(\"Implement the STDP\") \n",
    "    \n",
    "    return VmCxEx, CrExspike, VmCxIn, CrInspike\n",
    "\n",
    "VmCxEx, CrExspike, VmCxIn, CrInspike = CorticalThalamicNetwork()\n",
    "\n",
    "nest.Simulate(1000)\n",
    "\n",
    "PotCrEx = VmCxEx.get(\"events\", \"V_m\")\n",
    "TimesCrEx = VmCxEx.get(\"events\", \"times\")\n",
    "\n",
    "\n",
    "\n",
    "plt.plot(TimesCrEx, PotCrEx)\n",
    "plt.legend(loc=3)\n",
    "plt.xlabel(\"Times (ms)\")\n",
    "plt.ylabel(\"V_Cr_Ex (mV)\")"
   ]
  },
  {
   "cell_type": "code",
   "execution_count": 7,
   "id": "670f4635-91a2-4fdf-b20e-e84501b55cb5",
   "metadata": {},
   "outputs": [
    {
     "data": {
      "text/plain": [
       "{'a': 4.0,\n",
       " 'archiver_length': 0,\n",
       " 'available': (696,),\n",
       " 'b': 80.5,\n",
       " 'beta_Ca': 0.001,\n",
       " 'C_m': 281.0,\n",
       " 'Ca': 0.0,\n",
       " 'capacity': (1600,),\n",
       " 'Delta_T': 2.0,\n",
       " 'dg_ex': 0.0,\n",
       " 'dg_in': 0.0,\n",
       " 'E_ex': 0.0,\n",
       " 'E_in': -85.0,\n",
       " 'E_L': -70.6,\n",
       " 'element_type': 'neuron',\n",
       " 'elementsize': 752,\n",
       " 'frozen': False,\n",
       " 'g_ex': 0.0,\n",
       " 'g_in': 0.0,\n",
       " 'g_L': 30.0,\n",
       " 'global_id': 0,\n",
       " 'gsl_error_tol': 1e-06,\n",
       " 'I_e': 0.0,\n",
       " 'instantiations': (904,),\n",
       " 'local': True,\n",
       " 'model': 'aeif_cond_alpha',\n",
       " 'model_id': 15,\n",
       " 'node_uses_wfr': False,\n",
       " 'post_trace': 0.0,\n",
       " 'recordables': ('g_ex', 'g_in', 'V_m', 'w'),\n",
       " 'synaptic_elements': {},\n",
       " 't_ref': 0.0,\n",
       " 't_spike': -1.0,\n",
       " 'tau_Ca': 10000.0,\n",
       " 'tau_minus': 20.0,\n",
       " 'tau_minus_triplet': 110.0,\n",
       " 'tau_syn_ex': 0.2,\n",
       " 'tau_syn_in': 2.0,\n",
       " 'tau_w': 144.0,\n",
       " 'thread': -1,\n",
       " 'thread_local_id': -1,\n",
       " 'type_id': 'aeif_cond_alpha',\n",
       " 'V_m': -70.6,\n",
       " 'V_peak': -40.4,\n",
       " 'V_reset': -60.0,\n",
       " 'V_th': -50.4,\n",
       " 'vp': -1,\n",
       " 'w': 0.0}"
      ]
     },
     "execution_count": 7,
     "metadata": {},
     "output_type": "execute_result"
    }
   ],
   "source": [
    "nest.GetDefaults(\"aeif_cond_alpha\")"
   ]
  },
  {
   "cell_type": "code",
   "execution_count": null,
   "id": "299fa930-f18a-4659-bb2d-f625a366e722",
   "metadata": {},
   "outputs": [],
   "source": []
  }
 ],
 "metadata": {
  "kernelspec": {
   "display_name": "EBRAINS-23.09",
   "language": "python",
   "name": "ebrains-23.09"
  },
  "language_info": {
   "codemirror_mode": {
    "name": "ipython",
    "version": 3
   },
   "file_extension": ".py",
   "mimetype": "text/x-python",
   "name": "python",
   "nbconvert_exporter": "python",
   "pygments_lexer": "ipython3",
   "version": "3.8.11"
  }
 },
 "nbformat": 4,
 "nbformat_minor": 5
}
