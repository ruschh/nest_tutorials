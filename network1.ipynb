{
 "cells": [
  {
   "cell_type": "code",
   "execution_count": 41,
   "id": "139828fb-5374-45a2-ba25-c316016bab99",
   "metadata": {},
   "outputs": [],
   "source": [
    "import nest\n",
    "import numpy as np\n",
    "import time\n",
    "%matplotlib inline\n",
    "import matplotlib.pyplot as plt\n",
    "        \n",
    "nest.ResetKernel()\n",
    "nest.set_verbosity(\"M_WARNING\")"
   ]
  },
  {
   "cell_type": "markdown",
   "id": "193e8ca9-d50a-4eec-8f41-0ba8bf6c12bc",
   "metadata": {},
   "source": [
    "Network Architecture"
   ]
  },
  {
   "cell_type": "code",
   "execution_count": 51,
   "id": "efe8770a-7f7b-4504-a8c3-bb4a93706d29",
   "metadata": {},
   "outputs": [],
   "source": [
    "def CorticalThalamicNetwork():\n",
    "    nest.ResetKernel()\n",
    "    startbuild = time.time()\n",
    "#\n",
    "#   Parameter assumed by the network\n",
    "    dt = 0.1\n",
    "    simtime = 1000.0\n",
    "    p_rate = 0.5\n",
    "#   \n",
    "#   Number of neuron populations\n",
    "    ExciCrNeuron = 180 \n",
    "    InhiCrNeuron = 200\n",
    "    ExciThlNeuron = 324\n",
    "    InhiThlNeuron = 200\n",
    "    numberNeurons = ExciCrNeuron + InhiCrNeuron + ExciThlNeuron + InhiThlNeuron\n",
    "#\n",
    "#   Neuron parameters -- first run\n",
    "    C = 281       #pF Ver unidades\n",
    "    gl = 30       #nS nano siemens ver unidades\n",
    "    taum = gl/C\n",
    "    neuronParams = {\"C_m\" :C, \n",
    "                    \"t_ref\": taum}\n",
    "#\n",
    "#   Number of synapses -- Ce -> Excitatory, CI -> Inhibitory\n",
    "    CE = int(ExciCrNeuron + ExciThlNeuron)\n",
    "    CI = int(InhiCrNeuron + InhiThlNeuron)\n",
    "    CTot = int(CE + CI)\n",
    "#   \n",
    "    print(\"Building Cortical Thalamic Network\")\n",
    "#\n",
    "#   Set defaults - AdEx com neuroParams and Poissonian spike generator with rate p_rate\n",
    "    nest.SetDefaults(\"aeif_cond_alpha\", neuronParams)\n",
    "    nest.SetDefaults(\"poisson_generator\", {\"rate\": p_rate})                 \n",
    "#\n",
    "#   Creating populations\n",
    "    NeuronsCxEx = nest.Create(\"aeif_cond_alpha\", ExciCrNeuron)\n",
    "    NeuronsCxIn = nest.Create(\"aeif_cond_alpha\", InhiCrNeuron)\n",
    "    NeuronsThEx = nest.Create(\"aeif_cond_alpha\", ExciThlNeuron)\n",
    "    NeuronsThIn = nest.Create(\"aeif_cond_alpha\", InhiThlNeuron)\n",
    "    NeuronsAll = NeuronsCxEx + NeuronsCxIn + NeuronsThEx + NeuronsThIn\n",
    "#    \n",
    "    noise = nest.Create(\"poisson_generator\")\n",
    "#\n",
    "#   Creating voltmeters and recorders\n",
    "    VmCxEx = nest.Create(\"voltmeter\")\n",
    "    VmCxIn = nest.Create(\"voltmeter\")\n",
    "    VmThEx = nest.Create(\"voltmeter\")\n",
    "    VmThIn = nest.Create(\"voltmeter\")\n",
    "    \n",
    "    CrExspike = nest.Create(\"spike_recorder\")\n",
    "    CrInspike = nest.Create(\"spike_recorder\")\n",
    "    ThExspike = nest.Create(\"spike_recorder\")\n",
    "    ThInspike = nest.Create(\"spike_recorder\")\n",
    "    AllSpike = nest.Create(\"spike_recorder\")\n",
    "#\n",
    "#   Configuration of the spike_recorders\n",
    "    nest.Connect(VmCxEx, NeuronsCxEx)\n",
    "    nest.Connect(VmCxIn, NeuronsCxIn)\n",
    "    nest.Connect(VmThEx, NeuronsThEx)\n",
    "    nest.Connect(VmThIn, NeuronsThIn)\n",
    "    \n",
    "    nest.Connect(NeuronsCxEx, CrExspike)\n",
    "    nest.Connect(NeuronsCxIn, CrInspike)\n",
    "    nest.Connect(NeuronsThEx, ThExspike)\n",
    "    nest.Connect(NeuronsThIn, ThInspike)    \n",
    "#\n",
    "    print(\"Implement the STDP\") \n",
    "    \n",
    "    return VmCxEx, VmCxIn, VmThEx, VmThIn, CrExspike, CrInspike, ThExspike, ThInspike"
   ]
  },
  {
   "cell_type": "code",
   "execution_count": null,
   "id": "ab336ff4-361f-426e-8a2f-063b5bc70a37",
   "metadata": {},
   "outputs": [],
   "source": [
    "for dt in [0.1, 0.5, 1.0]:\n",
    "    print(f\"Running simulation with dt={dt:.2f}\")\n",
    "    VmCrEx, sr = build_network(dt)"
   ]
  }
 ],
 "metadata": {
  "kernelspec": {
   "display_name": "EBRAINS-23.09",
   "language": "python",
   "name": "ebrains-23.09"
  },
  "language_info": {
   "codemirror_mode": {
    "name": "ipython",
    "version": 3
   },
   "file_extension": ".py",
   "mimetype": "text/x-python",
   "name": "python",
   "nbconvert_exporter": "python",
   "pygments_lexer": "ipython3",
   "version": "3.8.11"
  }
 },
 "nbformat": 4,
 "nbformat_minor": 5
}
