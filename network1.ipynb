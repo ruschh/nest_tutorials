{
 "cells": [
  {
   "cell_type": "code",
   "execution_count": 1,
   "id": "139828fb-5374-45a2-ba25-c316016bab99",
   "metadata": {},
   "outputs": [
    {
     "name": "stdout",
     "output_type": "stream",
     "text": [
      "\n",
      "              -- N E S T --\n",
      "  Copyright (C) 2004 The NEST Initiative\n",
      "\n",
      " Version: 3.6.0\n",
      " Built: Oct 15 2023 15:12:16\n",
      "\n",
      " This program is provided AS IS and comes with\n",
      " NO WARRANTY. See the file LICENSE for details.\n",
      "\n",
      " Problems or suggestions?\n",
      "   Visit https://www.nest-simulator.org\n",
      "\n",
      " Type 'nest.help()' to find out more about NEST.\n",
      "\n"
     ]
    }
   ],
   "source": [
    "import nest\n",
    "import numpy as np\n",
    "import time"
   ]
  },
  {
   "cell_type": "markdown",
   "id": "193e8ca9-d50a-4eec-8f41-0ba8bf6c12bc",
   "metadata": {},
   "source": [
    "Network Architecture"
   ]
  },
  {
   "cell_type": "code",
   "execution_count": 3,
   "id": "efe8770a-7f7b-4504-a8c3-bb4a93706d29",
   "metadata": {},
   "outputs": [],
   "source": [
    "def CorticalThalamicNetwork():\n",
    "    nest.ResetKernel()\n",
    "    startbuild = time.time()\n",
    "#\n",
    "#   Parameter assumed by the network\n",
    "    dt = dt\n",
    "    simtime = simtime\n",
    "#\n",
    "#   Neuron parameters -- first run\n",
    "    C = 281       #pF Ver unidades\n",
    "    gl = 30       #nS nano siemens ver unidades\n",
    "    taum = gl/C\n",
    "#   \n",
    "#   Number of neuron populations\n",
    "    ExciCrneuron = 180 \n",
    "    InhiCrneuron = 200\n",
    "    ExciThlNeuron = 324\n",
    "    InhiThlNeuron = 200\n",
    "    numberNeurons = ExciCrneuron + InhiCrneuron + ExciThlNeuron + InhiThlNeuron\n",
    "#\n",
    "#   Neuron paramenters\n",
    "    neuronParams = {\"C_m\" : C, \"taum\" : taum}\n",
    "\n",
    "#   Number of synapses -- Ce -> Excitatory, CI -> Inhibitory\n",
    "    CE = int(ExciCrneuron + ExciThlNeuron)\n",
    "    CI = int(InhiCrneuron + InhiThlNeuron)\n",
    "    CTot = int(CE + CI)\n",
    "#   \n",
    "    print(\"Building Cortical Thalamic Network\")\n",
    "#\n",
    "#   Set defaults - AdEx com neuroParams and Poissonian spike generator with rate p_rate\n",
    "    nest.SetDefaults(\"aeif_cond_alpha\", params = neuroParams)\n",
    "    nest.SetDefaults(\"poisson_generator\", {\"rate\": p_rate})                 \n",
    "#\n",
    "#   Creating populations\n",
    "    NeuronsCxEx = nest.Create(\"aeif_cond_alpha\", ExciCrneuron)\n",
    "    NeuronsCxIn = nest.Create(\"aeif_cond_alpha\", InhiCrneuron)\n",
    "    NeuronThEx = nest.Create(\"aeif_cond_alpha\", ExciThlNeuron)\n",
    "    NeuronThIn = nest.Create(\"aeif_cond_alpha\", InhiThlNeuron)\n",
    "    NeuronsAll = NeuronsCxEx + NeuronsCxIn + NeuronThEx + NeuronThIn\n",
    "#    \n",
    "    noise = nest.Create(\"poisson_generator\")\n",
    "    CrExspike = nest.Create(\"spike_detector\")\n",
    "    CrInspike = nest.Create(\"spike_detector\")\n",
    "    ThExspike = nest.Create(\"spike_detector\")\n",
    "    ThInspike = nest.Create(\"spike_detector\")\n",
    "    AllSpike = nest.Create(\"spike_detector\")\n",
    "#\n",
    "#   Configuration of the spike_detectors\n",
    "    nest.SetStatus(CrExspike, [{\"label\": \"Cortical-Ex\", \n",
    "                                \"withtime\" : True, \n",
    "                                \"withgid\" : True, \n",
    "                                \"to_file\": save}])\n",
    "#\n",
    "    nest.SetStatus(CrInspike, [{\"label\": \"Cortical-in\", \n",
    "                                \"withtime\" : True, \n",
    "                                \"withgid\" : True, \n",
    "                                \"to_file\": save}])\n",
    "#\n",
    "    nest.SetStatus(ThExspike, [{\"label\": \"Thalamical-Ex\", \n",
    "                                \"withtime\" : True, \n",
    "                                \"withgid\" : True, \n",
    "                                \"to_file\": save}])\n",
    "#\n",
    "    nest.SetStatus(ThInspike, [{\"label\": \"Thalamical-in\", \n",
    "                                \"withtime\" : True, \n",
    "                                \"withgid\" : True, \n",
    "                                \"to_file\": save}])\n",
    "#\n",
    "    nest.SetStatus(Allspike, [{\"label\": \"Thalamical-in\", \n",
    "                                \"withtime\" : True, \n",
    "                                \"withgid\" : True, \n",
    "                                \"to_file\": False}])\n",
    "#\n",
    "    print(\"Connecting network neurons\")\n",
    "    \n",
    "    print(\"Implement the STDP\")    "
   ]
  }
 ],
 "metadata": {
  "kernelspec": {
   "display_name": "EBRAINS-23.09",
   "language": "python",
   "name": "ebrains-23.09"
  },
  "language_info": {
   "codemirror_mode": {
    "name": "ipython",
    "version": 3
   },
   "file_extension": ".py",
   "mimetype": "text/x-python",
   "name": "python",
   "nbconvert_exporter": "python",
   "pygments_lexer": "ipython3",
   "version": "3.8.11"
  }
 },
 "nbformat": 4,
 "nbformat_minor": 5
}
