{
  "nbformat": 4,
  "nbformat_minor": 0,
  "metadata": {
    "colab": {
      "provenance": []
    },
    "kernelspec": {
      "name": "python3",
      "display_name": "Python 3"
    },
    "language_info": {
      "name": "python"
    }
  },
  "cells": [
    {
      "cell_type": "code",
      "execution_count": null,
      "metadata": {
        "id": "uUpanK_rDgOL"
      },
      "outputs": [],
      "source": []
    },
    {
      "cell_type": "markdown",
      "source": [
        "# Heading - Importations"
      ],
      "metadata": {
        "id": "uZ7IpCEVDjui"
      }
    },
    {
      "cell_type": "code",
      "source": [
        "import nest\n",
        "import sys\n",
        "import numpy as np\n",
        "import pandas as pd\n",
        "\n",
        "%matplotlib inline\n",
        "import matplotlib.pyplot as plt\n",
        "import time\n",
        "import random\n",
        "import pylab  #interface de alto nível para matplotlib\n",
        "import scipy.io as sio # para operações relacionadas a entrada/saída\n",
        "\n",
        "import nest.voltage_trace\n",
        "import nest.raster_plot\n",
        "\n",
        "nest.set_verbosity(\"M_WARNING\")\n",
        "nest.ResetKernel()\n",
        "startbuild = time.time()\n",
        "startTime = time.time()\n",
        "simtime = 1000.0"
      ],
      "metadata": {
        "id": "gJUQoREVD2l0"
      },
      "execution_count": null,
      "outputs": []
    },
    {
      "cell_type": "markdown",
      "source": [
        "# Pre-processing"
      ],
      "metadata": {
        "id": "yoq3DipOEJyL"
      }
    },
    {
      "cell_type": "code",
      "source": [
        "# Preprocessing of the MNIST dataset.\n",
        "# These are arrays that contain features (probably extracted from images)\n",
        "# of the training (fn_train) and testing (fn_test) set, respectively.\n",
        "# \"labels_train0\" and \"labels_test\" contain the corresponding labels\n",
        "# (numbers 0 to 9) for the images in the training and testing set\n",
        "#\n",
        "fn_train = 'mnist_training_features_0.9_14.npy'\n",
        "feat_arr_train0 = np.load(fn_train)\n",
        "label_fn_train = 'mnist_training_labels_0.9_14.npy'\n",
        "labels_train0 = np.load(label_fn_train)\n",
        "fn_test = 'mnist_test_features_0.9_14.npy'\n",
        "feat_arr_test = np.load(fn_test)\n",
        "label_fn_test = 'mnist_test_labels_0.9_14.npy'\n",
        "labels_test = np.load(label_fn_test)\n",
        "\n",
        "# Organization of training data by classes\n",
        "# \"feat_train_class\" and \"label_train_class\" are lists that store, respectively,\n",
        "# characteristics and labels grouped by class.\n",
        "#\n",
        "feat_train_class=[[] for i in range(N_CLASSES)] # empty 2d list (N_CLASSES x N)\n",
        "label_train_class=[[] for i in range(N_CLASSES)]\n",
        "for i in range(len(labels_train0)):\n",
        "    i_class = labels_train0[i]\n",
        "    feat_train_class[i_class].append(feat_arr_train0[i])\n",
        "    label_train_class[i_class].append(i_class)\n",
        "\n",
        "# Selection of a subset of data.\n",
        "# A subset of data (feat_red and labels_red) is selected from\n",
        "# from the lists organized by class.\n",
        "# The selection is made based on the constants N_CLASSES and N_RANKS.\n",
        "#\n",
        "feat_red = [feat_train_class[i][j] for i in range(N_CLASSES)\n",
        "            for j in range(0*N_RANKS,(0+1)*N_RANKS)]\n",
        "labels_red = [label_train_class[i][j] for i in range(N_CLASSES)\n",
        "              for j in range(0*N_RANKS,(0+1)*N_RANKS)]\n",
        "\n",
        "# Data preparation and random seed tuning\n",
        "rand = np.random.RandomState(12345)\n",
        "\n",
        "# Features (feat_red) and labels (labels_red)\n",
        "# are converted to NumPy arrays for easier handling.\n",
        "#\n",
        "feat_arr_train = np.asarray(feat_red)\n",
        "labels_train = np.asarray(labels_red)\n",
        "\n",
        "# Labels are converted to integer data type.\n",
        "# This is common to ensure labels are interpreted correctly during training\n",
        "# or simulation.\n",
        "#\n",
        "labels_train=labels_train.astype(int)\n",
        "labels_test=labels_test.astype(int)"
      ],
      "metadata": {
        "id": "JOgtjkKAEcmI"
      },
      "execution_count": null,
      "outputs": []
    },
    {
      "cell_type": "markdown",
      "source": [],
      "metadata": {
        "id": "HpzLI6UfF-Yk"
      }
    },
    {
      "cell_type": "markdown",
      "source": [
        "# Network parameters"
      ],
      "metadata": {
        "id": "hd4c9ZMTGFKp"
      }
    },
    {
      "cell_type": "code",
      "source": [
        "# Noises\n",
        "noiseThEx = 30000.0\n",
        "noiseOut = 10000.0\n",
        "noiseCxEx = 2000.0\n",
        "noiseCxIn = 10000.0\n",
        "noiseThExRecog = noiseThEx\n",
        "noiseCxExSleep = 680.\n",
        "\n",
        "# Weights\n",
        "W_noiseThEx = 8.0\n",
        "W_noiseCxEx = 15.0\n",
        "W_noiseOut = 1.4\n",
        "W_noiseCxIn = 5.0\n",
        "\n",
        "W0_CxExThEx = 1.\n",
        "W0_ThExCxEx = 1.\n",
        "W0_CxExOut = 0.0001\n",
        "W0_CxExCxEx = 4.\n",
        "\n",
        "Wmax_ThExCxEx = 5.50\n",
        "Wmax_CxExThEx = 135.\n",
        "Wmax_CxExOut = 154.0\n",
        "Wmax_CxExCxEx = 150.0\n",
        "\n",
        "W_CxExCxIn = 60.0\n",
        "W_CxInCxEx = -4.\n",
        "W_CxInCxEx_retrieval = -4.\n",
        "W_CxInCxIn = -1.\n",
        "W_CxInCxExSleep = -.7\n",
        "W_ThExThIn = 10.0\n",
        "W_ThInThEx = -1.0\n",
        "\n",
        "# STDP Parameters\n",
        "muMinus = 1.\n",
        "muPlus =  1.\n",
        "alpha = 1.\n",
        "alphaSleep = 5.\n",
        "bSleep = 80.\n",
        "\n",
        "lambda_ThExCxEx = 0.03\n",
        "lambda_CxExThEx = .08\n",
        "lambda_CxExOut = .0\n",
        "lambda_CxExCxEx = 0.09\n",
        "\n",
        "lambda_ThExCxExSleep = 0.0\n",
        "lambda_CxExOutSleep = 0.0\n",
        "lambda_CxExCxExSleep = .000003\n",
        "\n",
        "# Simulations time\n",
        "tTrain = 500.0\n",
        "tPause = 400.0\n",
        "tCheck = 200.0\n",
        "tSleep = 600000.\n",
        "\n",
        "inputSize = 324     # Number of excitatory thalamic neurons\n",
        "nClasses = N_CLASSES   # Classes division for training task\n",
        "\n",
        "trainDigit=feat_arr_train\n",
        "teachOut=labels_train\n",
        "nTrain = 9\n",
        "\n",
        "testDigit=feat_arr_train\n",
        "testOut = labels_train\n",
        "nTest = 9"
      ],
      "metadata": {
        "id": "zZ61W38oGKg2"
      },
      "execution_count": null,
      "outputs": []
    },
    {
      "cell_type": "markdown",
      "source": [
        "# Number of neuron populations"
      ],
      "metadata": {
        "id": "2iaZJggQGbs_"
      }
    },
    {
      "cell_type": "code",
      "source": [
        "gCxEx = 20                          # Group of cortical excitatory neurons\n",
        "CxExNeuron = gCxEx*nTrain         # number of cortical excitatory neurons\n",
        "CxInNeuron = 200\n",
        "ThExNeuron = inputSize\n",
        "ThInNeuron = 200\n",
        "nOut = nClasses"
      ],
      "metadata": {
        "id": "gv4TNCumGmPq"
      },
      "execution_count": null,
      "outputs": []
    },
    {
      "cell_type": "markdown",
      "source": [],
      "metadata": {
        "id": "5dkGJ9LGGr4e"
      }
    },
    {
      "cell_type": "markdown",
      "source": [
        "# Input patterns trainPattern and testPattern are arrays receiving trainDigit and testDigit respectively"
      ],
      "metadata": {
        "id": "GiaoXimSG6_H"
      }
    },
    {
      "cell_type": "code",
      "source": [
        "trainPattern = [[0 for i in range(ThExNeuron)] for j in range(nTrain)]\n",
        "for i in range(inputSize):\n",
        "    for iTrain in range(nTrain):\n",
        "        trainPattern[iTrain][i] = trainDigit[iTrain][i]\n",
        "\n",
        "testPattern = [[0 for i in range(ThExNeuron)] for j in range(nTest)]\n",
        "for i in range(inputSize):\n",
        "    for iTest in range(nTest):\n",
        "        testPattern[iTest][i] = testDigit[iTest][i]"
      ],
      "metadata": {
        "id": "8ZHzjTL6G87j"
      },
      "execution_count": null,
      "outputs": []
    },
    {
      "cell_type": "markdown",
      "source": [
        "# Array store the spike populations"
      ],
      "metadata": {
        "id": "9QcMvTxMHDJ2"
      }
    },
    {
      "cell_type": "code",
      "source": [
        "nSpikesThEx = [0]*ThExNeuron\n",
        "cumSpikesThEx = [0]*ThExNeuron    # Cumulative spikes storing of ThEx\n",
        "nSpikesCxEx = [0]*CxExNeuron\n",
        "cumSpikesCxEx = [0]*CxExNeuron\n",
        "nSpikesCxIn = [0]*CxInNeuron\n",
        "cumSpikesCxIn = [0]*CxInNeuron\n",
        "nSpikesOut = [0]*nOut\n",
        "cumSpikesOut = [0]*nOut\n",
        "nSpikesThIn = [0]*ThInNeuron\n",
        "cumSpikesThIn = [0]*ThInNeuron"
      ],
      "metadata": {
        "id": "809Mo4MhHEO3"
      },
      "execution_count": null,
      "outputs": []
    },
    {
      "cell_type": "markdown",
      "source": [
        "#   Neuron parameters -- first run"
      ],
      "metadata": {
        "id": "PW6IAapUHM6N"
      }
    },
    {
      "cell_type": "code",
      "source": [
        "vPeak = nest.GetDefaults('aeif_cond_alpha')['V_th']+5*nest.GetDefaults('aeif_cond_alpha')['Delta_T']\n",
        "b = 0.01\n",
        "t_ref = 2.0\n",
        "neuronParams = {'V_peak': vPeak, 'b': b, 't_ref': t_ref}"
      ],
      "metadata": {
        "id": "IakkNwCBHOst"
      },
      "execution_count": null,
      "outputs": []
    },
    {
      "cell_type": "markdown",
      "source": [
        "# Creating populations"
      ],
      "metadata": {
        "id": "x0xbBW1OHSjn"
      }
    },
    {
      "cell_type": "code",
      "source": [
        "NeuronsThEx = nest.Create(\"aeif_cond_alpha\", ThExNeuron)    # Thalamic excit pop\n",
        "NeuronsCxEx = nest.Create(\"aeif_cond_alpha\", CxExNeuron)    # Cortical excit pop\n",
        "NeuronsCxIn = nest.Create(\"aeif_cond_alpha\", CxInNeuron)    # cortical inhib pop\n",
        "NeuronsThIn = nest.Create(\"aeif_cond_alpha\", ThInNeuron)    # Thalamic inhib pop\n",
        "NeuronsOut = nest.Create(\"aeif_cond_alpha\", nOut)           # Output neurons - Classes\n",
        "#\n",
        "nest.SetStatus(NeuronsThEx, params = neuronParams)\n",
        "nest.SetStatus(NeuronsCxEx, params = neuronParams)\n",
        "nest.SetStatus(NeuronsCxIn, params = neuronParams)\n",
        "nest.SetStatus(NeuronsThIn, params = neuronParams)\n",
        "nest.SetStatus(NeuronsOut, params = neuronParams)"
      ],
      "metadata": {
        "id": "HC9iBH0aHW0Y"
      },
      "execution_count": null,
      "outputs": []
    },
    {
      "cell_type": "markdown",
      "source": [
        "# Input noises"
      ],
      "metadata": {
        "id": "Yrr5BWb9Hcva"
      }
    },
    {
      "cell_type": "code",
      "source": [
        "# Input noise on the excit thalamic pop\n",
        "ThExNoise = nest.Create(\"poisson_generator\", ThExNeuron)\n",
        "synDictNoiseThEx = {\"weight\": W_noiseThEx, \"delay\": 1.0}\n",
        "nest.Connect(ThExNoise, NeuronsThEx, syn_spec=synDictNoiseThEx)\n",
        "#\n",
        "# Trainning noise on the excit cortical pop\n",
        "CxExNoise = nest.Create(\"poisson_generator\", CxExNeuron)\n",
        "synDictNoiseCxEx = {\"weight\": W_noiseCxEx, \"delay\": 1.0}\n",
        "nest.Connect(CxExNoise, NeuronsCxEx, syn_spec=synDictNoiseCxEx)\n",
        "\n",
        "# teaching output noise\n",
        "OutNoise = nest.Create(\"poisson_generator\", nOut)\n",
        "synDictNoiseOut = {\"weight\": W_noiseOut, \"delay\":1.0}\n",
        "nest.Connect(OutNoise, NeuronsOut, syn_spec=synDictNoiseOut)"
      ],
      "metadata": {
        "id": "j97mTyTnHisa"
      },
      "execution_count": null,
      "outputs": []
    },
    {
      "cell_type": "markdown",
      "source": [
        "# Building train excitatory neuron groups"
      ],
      "metadata": {
        "id": "EbHexszlH0WK"
      }
    },
    {
      "cell_type": "code",
      "source": [
        "trainTargetCxEx = [[0 for i in range(gCxEx)] for j in range(nTrain)]\n",
        "tgt=range(gCxEx)\n",
        "for iTrain in range(nTrain):\n",
        "    for i_g in range(gCxEx):\n",
        "        i = iTrain*gCxEx + i_g\n",
        "        trainTargetCxEx[iTrain][i_g]=i"
      ],
      "metadata": {
        "id": "0lMCYSiuH1cK"
      },
      "execution_count": null,
      "outputs": []
    },
    {
      "cell_type": "markdown",
      "source": [
        "# STDP synapses"
      ],
      "metadata": {
        "id": "QzGaQJJJI3wZ"
      }
    },
    {
      "cell_type": "code",
      "source": [
        "# STDP from excitatory thalamic neurons to excitatory cortical neurons\n",
        "synDictThExCxEx = {\"synapse_model\" : \"stdp_synapse\",\n",
        "                   \"lambda\": lambda_ThExCxEx,\n",
        "                   \"weight\":W0_ThExCxEx,\n",
        "                   \"Wmax\": Wmax_ThExCxEx,\n",
        "                   \"delay\":1.0}\n",
        "conn_dict = {'rule': 'pairwise_bernoulli', 'p': 1.0}\n",
        "nest.Connect(NeuronsThEx, NeuronsCxEx, conn_dict, syn_spec=synDictThExCxEx)\n",
        "#\n",
        "# STDP from excitatory cortical neurons to excitatory thalamic neurons\n",
        "synDictCxExThEx = {\"synapse_model\" : \"stdp_synapse\",\n",
        "                   \"lambda\": lambda_CxExThEx,\n",
        "                   \"weight\":W0_CxExThEx,\n",
        "                   \"Wmax\":Wmax_CxExThEx,\n",
        "                   \"delay\":1.0}\n",
        "nest.Connect(NeuronsCxEx, NeuronsThEx, \"all_to_all\", syn_spec=synDictCxExThEx)\n",
        "#\n",
        "# STDP from excitatory cortical neurons to output\n",
        "synDictCxExOut = {\"synapse_model\" : \"stdp_synapse\",\n",
        "                  \"lambda\": lambda_CxExOut,\n",
        "                  \"weight\":W0_CxExOut,\n",
        "                  \"Wmax\":Wmax_CxExOut,\n",
        "                  \"delay\":1.0}\n",
        "nest.Connect(NeuronsCxEx, NeuronsOut, \"all_to_all\", syn_spec=synDictCxExOut)\n",
        "#\n",
        "# STDP from excitatory to excitatory connections\n",
        "synDictCxExCxEx = {\"synapse_model\" : \"stdp_synapse\",\n",
        "                   \"lambda\": lambda_CxExCxEx,\n",
        "                   \"weight\": W0_CxExCxEx,\n",
        "                   \"Wmax\":Wmax_CxExCxEx}\n",
        "nest.Connect(NeuronsCxEx, NeuronsCxEx, conn_spec=\"all_to_all\" , syn_spec=synDictCxExCxEx)"
      ],
      "metadata": {
        "id": "b0ArkmoCI8FV"
      },
      "execution_count": null,
      "outputs": []
    },
    {
      "cell_type": "markdown",
      "source": [
        "# Static synapses"
      ],
      "metadata": {
        "id": "1CtxjdqzJL6E"
      }
    },
    {
      "cell_type": "code",
      "source": [
        "# From excitatory to inhibitory connections\n",
        "synDictCxExCxIn = {\"weight\": W_CxExCxIn, \"delay\":1.0}\n",
        "nest.Connect(NeuronsCxEx, NeuronsCxIn,\n",
        "             conn_spec=\"all_to_all\",\n",
        "             syn_spec=synDictCxExCxIn)\n",
        "\n",
        "# From inhibitory to excitatory connections\n",
        "synDictCxInCxEx = {\"weight\": W_CxInCxEx, \"delay\":1.0}\n",
        "nest.Connect(NeuronsCxIn, NeuronsCxEx,\n",
        "             conn_spec=\"all_to_all\",\n",
        "             syn_spec=synDictCxInCxEx)\n",
        "\n",
        "# From inhibitory to inhibitory\n",
        "synDictCxInCxIn = {\"weight\": W_CxInCxIn, \"delay\":1.0}\n",
        "nest.Connect(NeuronsCxIn, NeuronsCxIn,\n",
        "             conn_spec=\"all_to_all\",\n",
        "             syn_spec=synDictCxInCxIn)\n",
        "\n",
        "# From excitatory thalamical to inhibitory thalamical connections\n",
        "synDictThExThIn = {\"weight\": W_ThExThIn, \"delay\":1.0}\n",
        "nest.Connect(NeuronsThEx, NeuronsThIn,\n",
        "             conn_spec=\"all_to_all\",\n",
        "             syn_spec=synDictThExThIn)\n",
        "\n",
        "# From inhibitory thalamical to excitatory thalamocal connections\n",
        "synDictThInThEx = {\"weight\": W_ThInThEx, \"delay\":1.0}\n",
        "nest.Connect(NeuronsThIn, NeuronsThEx,\n",
        "             conn_spec=\"all_to_all\",\n",
        "             syn_spec=synDictThInThEx)\n",
        "\n",
        "# inhibitory noise\n",
        "CxInNoise = nest.Create(\"poisson_generator\", CxInNeuron)\n",
        "synDictNoiseCxIn = {\"weight\": W_noiseCxIn, \"delay\":1.0}\n",
        "nest.Connect(CxInNoise, NeuronsCxIn, syn_spec=synDictNoiseCxIn)"
      ],
      "metadata": {
        "id": "F-qvw0CkJPCK"
      },
      "execution_count": null,
      "outputs": []
    },
    {
      "cell_type": "markdown",
      "source": [
        "# Multimeters"
      ],
      "metadata": {
        "id": "Hib6VSjmJhgK"
      }
    },
    {
      "cell_type": "code",
      "source": [
        "CxExMult = nest.Create(\"multimeter\")\n",
        "CxExMult.set(record_from[\"V_m\"])\n",
        "\n",
        "CxInMult =  nest.Create(\"multimeter\")\n",
        "CxInMult.set(record_from[\"V_m\"])\n",
        "\n",
        "ThExMult = nest.Create(\"multimeter\")\n",
        "ThExMult.set(record_from[\"V_m\"])\n",
        "\n",
        "ThInMult = nest.Create(\"multimeter\")\n",
        "ThInMult.set(record_from[\"V_m\"])"
      ],
      "metadata": {
        "id": "a2XfZHGUJj1U"
      },
      "execution_count": null,
      "outputs": []
    },
    {
      "cell_type": "markdown",
      "source": [
        "# Spike detectors"
      ],
      "metadata": {
        "id": "3luoiidwKAYU"
      }
    },
    {
      "cell_type": "code",
      "source": [
        "# Spike detectors for excitatory thalamical pop\n",
        "SpikeDetecThEx = nest.Create(\"spike_recorder\")\n",
        "nest.Connect(NeuronsThEx, SpikeDetecThEx)\n",
        "\n",
        "# Spike detectors for inhibitory thalamic pop\n",
        "SpikeDetecThIn = nest.Create(\"spike_recorder\")\n",
        "nest.Connect(NeuronsThIn, SpikeDetecThIn)\n",
        "\n",
        "# Spike detectors for excitatory cortical pop\n",
        "SpikeDetecCxEx = nest.Create(\"spike_recorder\")\n",
        "nest.Connect(NeuronsCxEx, SpikeDetecCxEx)\n",
        "\n",
        "# Spike detectors for cortical inhibitory neurons\n",
        "SpikeDetecCxIn = nest.Create(\"spike_recorder\")\n",
        "nest.Connect(NeuronsCxIn, SpikeDetecCxIn)\n",
        "\n",
        "# Spike detectors for output\n",
        "SpikeDetecOut = nest.Create(\"spike_recorder\")\n",
        "nest.Connect(NeuronsOut, SpikeDetecOut)"
      ],
      "metadata": {
        "id": "VZH5cHvQKCux"
      },
      "execution_count": null,
      "outputs": []
    },
    {
      "cell_type": "markdown",
      "source": [
        "# Trainning phase"
      ],
      "metadata": {
        "id": "zudRaPqWKKXp"
      }
    },
    {
      "cell_type": "code",
      "source": [
        "for iTrain in range(nTrain):\n",
        "    iOut = teachOut[iTrain]\n",
        "    print(\"iOut label = \",  iOut)\n",
        "    print(\"Training number \", iTrain)\n",
        "#\n",
        "    for i in range(ThExNeuron):\n",
        "        if trainPattern[iTrain][i]==1:\n",
        "            nest.SetStatus(ThExNoise[i], {\"rate\": noiseThEx})\n",
        "        else:\n",
        "            nest.SetStatus(ThExNoise[i], {\"rate\": 0.0})\n",
        "\n",
        "    for i in range(CxExNeuron):\n",
        "        nest.SetStatus(CxExNoise[i], {\"rate\": 0.0})\n",
        "\n",
        "#   Groups of Cortical excitatory neurons receive contextual signal noiseCxEx\n",
        "    for ig in range(gCxEx):\n",
        "            nest.SetStatus(CxExNoise[trainTargetCxEx[iTrain][ig]],\n",
        "                           {\"rate\": noiseCxEx})\n",
        "\n",
        "    for i in range(nOut):\n",
        "        if i==nOut:\n",
        "            nest.SetStatus(OutNoise[i], {\"rate\": noiseOut})\n",
        "        else:\n",
        "            nest.SetStatus(OutNoise[i], {\"rate\": 0.0})\n",
        "\n",
        "    for i in range(CxInNeuron):\n",
        "        nest.SetStatus(CxInNoise[i], {\"rate\": noiseCxIn})\n",
        "\n",
        "    # Starting training -- \"turn on\" the weights\n",
        "    nest.SetStatus(nest.GetConnections(source=NeuronsThEx, target=NeuronsCxEx), {'lambda': lambda_ThExCxEx})\n",
        "    nest.SetStatus(nest.GetConnections(source=NeuronsCxEx, target=NeuronsThEx), {'lambda': lambda_CxExThEx})\n",
        "    nest.SetStatus(nest.GetConnections(source=NeuronsCxEx, target=NeuronsOut), {'lambda': lambda_CxExOut})\n",
        "    nest.SetStatus(nest.GetConnections(source=NeuronsCxEx, target=NeuronsCxEx), {'lambda': lambda_CxExCxEx})\n",
        "\n",
        "    # Train simulation\n",
        "    nest.Simulate(tTrain)"
      ],
      "metadata": {
        "id": "D-r6mmPJKNdX"
      },
      "execution_count": null,
      "outputs": []
    },
    {
      "cell_type": "markdown",
      "source": [
        "# Post trainning -- \"turn off\" the weights"
      ],
      "metadata": {
        "id": "KkhqmX1MKV-p"
      }
    },
    {
      "cell_type": "code",
      "source": [
        "    nest.SetStatus(nest.GetConnections(source=NeuronsThEx, target=NeuronsCxEx), {'lambda': 0.0})\n",
        "    nest.SetStatus(nest.GetConnections(source=NeuronsCxEx, target=NeuronsThEx),{'lambda': 0.0})\n",
        "    nest.SetStatus(nest.GetConnections(source=NeuronsCxEx, target=NeuronsOut),{'lambda': 0.0})\n",
        "    nest.SetStatus(nest.GetConnections(source=NeuronsCxEx, target=NeuronsCxEx), {'lambda': 0.0})\n",
        "#\n",
        "    DfThEx = pd.DataFrame.from_dict(SpikeDetecThEx.get(\"events\")).pivot(index=\"senders\", columns=\"times\", values=\"times\")\n",
        "    idsThEx = DfThEx.count(axis=1)\n",
        "#\n",
        "    DfOut = pd.DataFrame.from_dict(SpikeDetecOut.get(\"events\")).pivot(index=\"senders\", columns=\"times\", values=\"times\")\n",
        "    idsOut = DfOut.count(axis=1)\n",
        "#\n",
        "    DfCxEx = pd.DataFrame.from_dict(SpikeDetecCxEx.get(\"events\")).pivot(index=\"senders\", columns=\"times\", values=\"times\")\n",
        "    idsCxEx = DfCxEx.count(axis=1)\n",
        "#\n",
        "    DfCxIn = pd.DataFrame.from_dict(SpikeDetecCxIn.get(\"events\")).pivot(index=\"senders\", columns=\"times\", values=\"times\")\n",
        "    idsCxI = DfCxIn.count(axis=1)\n",
        "#\n",
        "    DfThIn = pd.DataFrame.from_dict(SpikeDetecThIn.get(\"events\")).pivot(index=\"senders\", columns=\"times\", values=\"times\")\n",
        "    idsThIn = DfThIn.count(axis=1)\n",
        "#\n",
        "    #switch off all teaching outputs\n",
        "    for i in range(CxExNeuron):\n",
        "        nest.SetStatus(CxExNoise[i], {\"rate\": 0.0})\n",
        "\n",
        "    for i in range(nOut):\n",
        "        nest.SetStatus(OutNoise[i], {\"rate\": 0.0})\n",
        "\n",
        "    for i in range(CxInNeuron):\n",
        "        nest.SetStatus(CxInNoise[i], {\"rate\": noiseCxIn*4})\n",
        "\n",
        "    for i in range(ThExNeuron):\n",
        "        nest.SetStatus(ThExNoise[i], {\"rate\": 0.0})\n",
        "\n",
        "    nest.Simulate(tPause)"
      ],
      "metadata": {
        "id": "y8MLzC-8KeY5"
      },
      "execution_count": null,
      "outputs": []
    },
    {
      "cell_type": "markdown",
      "source": [
        "# Tests"
      ],
      "metadata": {
        "id": "dJO-VUEkLElS"
      }
    },
    {
      "cell_type": "code",
      "source": [
        "nest.SetStatus(nest.GetConnections(source=NeuronsCxIn, target=NeuronsCxEx), {\"weight\": W_CxInCxEx_retrieval})\n",
        "\n",
        "# switch off all teaching outputs\n",
        "for i in range(CxExNeuron):\n",
        "    nest.SetStatus(CxExNoise[i], {\"rate\": 0.0})\n",
        "\n",
        "for i in range(nOut):\n",
        "    nest.SetStatus(OutNoise[i], {\"rate\": 0.0})\n",
        "\n",
        "for i in range(CxInNeuron):\n",
        "    nest.SetStatus(CxInNoise[i], {\"rate\": noiseCxIn*4})\n",
        "\n",
        "for i in range(ThExNeuron):\n",
        "    nest.SetStatus(ThExNoise[i], {\"rate\": 0.0})\n",
        "\n",
        "nest.Simulate(tPause*4)"
      ],
      "metadata": {
        "id": "mLHzzoqsLGzv"
      },
      "execution_count": null,
      "outputs": []
    },
    {
      "cell_type": "markdown",
      "source": [
        "# Pre sleeping phase starting"
      ],
      "metadata": {
        "id": "Loq8i-VVLUNu"
      }
    },
    {
      "cell_type": "code",
      "source": [
        "print('Pre-sleep test initializing...')\n",
        "\n",
        "#test_seq = [2,0,1,3]\n",
        "\n",
        "ountRight = 0\n",
        "countUnsupervisedRight =0\n",
        "for iTest in range(nTest):\n",
        "\n",
        "    #switch off all teaching outputs\n",
        "    for i in range(CxExNeuron):\n",
        "        nest.SetStatus(CxExNoise[i], {\"rate\": 0.0})\n",
        "\n",
        "    for i in range(nOut):\n",
        "        nest.SetStatus(OutNoise[i], {\"rate\": 0.0})\n",
        "\n",
        "    for i in range(CxInNeuron):\n",
        "        nest.SetStatus(CxInNoise[i], {\"rate\": 0.0})\n",
        "\n",
        "    #prepare input pattern\n",
        "    for i in range(CxInNeuron):\n",
        "        if testPattern[iTest][i]==1:\n",
        "            nest.SetStatus(ThExNoise[i], {\"rate\": noiseThExRecog})\n",
        "        else:\n",
        "            nest.SetStatus(ThExNoise[i], {\"rate\": 0.0})\n",
        "\n",
        "    nest.Simulate(tCheck)\n",
        "#\n",
        "    DfThEx = pd.DataFrame.from_dict(SpikeDetecThEx.get(\"events\")).pivot(index=\"senders\", columns=\"times\", values=\"times\")\n",
        "    idsThEx = DfThEx.count(axis=1)\n",
        "#\n",
        "    DfOut = pd.DataFrame.from_dict(SpikeDetecOut.get(\"events\")).pivot(index=\"senders\", columns=\"times\", values=\"times\")\n",
        "    idsOut = DfOut.count(axis=1)\n",
        "#\n",
        "    DfCxEx = pd.DataFrame.from_dict(SpikeDetecCxEx.get(\"events\")).pivot(index=\"senders\", columns=\"times\", values=\"times\")\n",
        "    idsCxEx = DfCxEx.count(axis=1)\n",
        "#\n",
        "    DfCxIn = pd.DataFrame.from_dict(SpikeDetecCxIn.get(\"events\")).pivot(index=\"senders\", columns=\"times\", values=\"times\")\n",
        "    idsCxI = DfCxIn.count(axis=1)\n",
        "#\n",
        "    DfThIn = pd.DataFrame.from_dict(SpikeDetecThIn.get(\"events\")).pivot(index=\"senders\", columns=\"times\", values=\"times\")\n",
        "    idsThIn = DfThIn.count(axis=1)\n",
        "#\n",
        "    #switch off all teaching outputs\n",
        "    for i in range(CxExNeuron):\n",
        "        nest.SetStatus(CxExNoise[i], {\"rate\": 0.0})\n",
        "\n",
        "    for i in range(nOut):\n",
        "        nest.SetStatus(OutNoise[i], {\"rate\": 0.0})\n",
        "\n",
        "    for i in range(CxInNeuron):\n",
        "        nest.SetStatus(CxInNoise[i], {\"rate\": noiseCxIn*2})\n",
        "\n",
        "    for i in range(ThExNeuron):\n",
        "        nest.SetStatus(ThExNoise[i], {\"rate\": 0.0})\n",
        "\n",
        "    ThEx_spk = SpikeDetecThEx.get(\"events\")\n",
        "    ThEx_senders = ThEx_spk[\"senders\"]\n",
        "    ThEx_times = ThEx_spk[\"times\"]\n",
        "\n",
        "    ThIn_spk = SpikeDetecThIn.get(\"events\")\n",
        "    ThIn_senders = ThIn_spk[\"senders\"]\n",
        "    ThIn_times = ThIn_spk[\"times\"]\n",
        "\n",
        "    CxEx_spk = SpikeDetecCxEx.get(\"events\")\n",
        "    CxEx_senders = CxEx_spk[\"senders\"]\n",
        "    CxEx_times = CxEx_spk[\"times\"]\n",
        "\n",
        "    CxIn_spk = SpikeDetecCxIn.get(\"events\")\n",
        "    CxIn_senders = CxIn_spk[\"senders\"]\n",
        "    CxIn_times = CxIn_spk[\"times\"]\n",
        "\n",
        "    nest.Simulate(tPause)\n",
        "\n",
        "    nSpikesMax = 0\n",
        "    iOut = -1\n",
        "    for i in range(nOut):\n",
        "        nSpikes = nSpikesOut[i];\n",
        "        if nSpikes > nSpikesMax:\n",
        "            iOut = i\n",
        "            nSpikesMax = nSpikes\n",
        "\n",
        "    print('Output class index: ', iOut)\n",
        "    print('Target class index: ', testOut[iTest])\n",
        "    if iOut == testOut[iTest]:\n",
        "        countRight = countRight + 1\n",
        "    print('Corrects: ', countRight, '/', iTest+1)\n",
        "    print('Accuracy = ', float(countRight)/float(iTest+1.)*100., '%')\n",
        "\n",
        "    nSpikesMaxCxEX = 0\n",
        "    iOutExc = -1\n",
        "    for i in range(CxExNeuron):\n",
        "        nSpikes = nSpikesCxEx[i];\n",
        "        if nSpikes > nSpikesMaxCxEX:\n",
        "            iOutCxEX = i\n",
        "            nSpikesMaxCxEX = nSpikes\n",
        "    class_out_exc = np.floor(i_out_exc/(k_exc*N_RANKS))\n",
        "\n",
        "    if classOutExc==testOut[iTest]:\n",
        "        countUnsupervisedRight = countUnsupervisedRight + 1\n",
        "\n",
        "    print('Corrects: ', countUnsupervisedRight, '/', iTest+1)\n",
        "    print('Accuracy = ', float(countUnsupervisedRight)/float(iTest+1.)*100., '%')\n",
        "\n",
        "    endTime = time.time()\n",
        "    print('Simulation time: %.2f s') % (endTime-startTime)\n",
        "    sys.stdout.flush()\n",
        "\n",
        "AccuracyPreSleep = float(countRight)/float(iTest+1.)*100.\n",
        "AccuracyPreSleepUnsupervised = float(countUnsupervisedRight)/float(iTest+1.)*100.\n",
        "\n",
        "connPar=nest.GetConnections(CxExNeuron, CxExNeuron)\n",
        "wPreSleep=nest.GetStatus(conn_par, [\"source\", \"target\", \"weight\"])\n",
        "\n",
        "connPar_ThExCxEX = nest.GetConnections(ThExNeuron, CxExNeuron)\n",
        "w_ThExCxEx = nest.GetStatus(connPar_ThExCxEX, [\"source\",\"target\",\"weight\"])\n"
      ],
      "metadata": {
        "id": "f1ZVL6VwLZLJ"
      },
      "execution_count": null,
      "outputs": []
    },
    {
      "cell_type": "markdown",
      "source": [],
      "metadata": {
        "id": "SvNDM4iILBvC"
      }
    },
    {
      "cell_type": "markdown",
      "source": [
        "# Sleeping phase"
      ],
      "metadata": {
        "id": "gieWW4OPLzrr"
      }
    },
    {
      "cell_type": "code",
      "source": [
        "print('Sleeping Phase')"
      ],
      "metadata": {
        "id": "gfT_9EGoL2yG"
      },
      "execution_count": null,
      "outputs": []
    },
    {
      "cell_type": "markdown",
      "source": [
        "# Plots"
      ],
      "metadata": {
        "id": "Vua0kH9ZL5Mg"
      }
    },
    {
      "cell_type": "code",
      "source": [
        "nest.raster_plot.from_device(SpikeDetecCxEx, title='Cortical Excitatory Neurons Raster Plot', hist=True)\n",
        "plt.show()\n",
        "\n",
        "nest.raster_plot.from_device(SpikeDetecCxIn, title='Cortical Inhibitory Neurons Raster Plot', hist=True)\n",
        "plt.show()\n",
        "\n",
        "nest.raster_plot.from_device(SpikeDetecThEx, title='Thalamic Excitatory Neurons Raster Plot', hist=True)\n",
        "plt.show()\n",
        "\n",
        "nest.raster_plot.from_device(SpikeDetecThIn, title='Thalamic Inhibitory Neurons Raster Plot', hist=True)\n",
        "plt.show()\n",
        "\n",
        "nest.raster_plot.from_device(SpikeDetecOut, title='Output Neurons Raster Plot', hist=True)\n",
        "plt.show()\n",
        "\n",
        "print(\"Done!\")"
      ],
      "metadata": {
        "id": "nnexXCmgL82z"
      },
      "execution_count": null,
      "outputs": []
    }
  ]
}